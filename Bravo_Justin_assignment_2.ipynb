{
 "cells": [
  {
   "cell_type": "markdown",
   "metadata": {},
   "source": [
    "# Artificial Intelligence\n",
    "# 464\n",
    "# Assignment #2\n",
    "\n",
    "## General Directions for this Assignment\n",
    "\n",
    "00. We're using a Jupyter Notebook environment (tutorial available here: https://jupyter-notebook-beginner-guide.readthedocs.io/en/latest/what_is_jupyter.html),\n",
    "01. Read the entire notebook before beginning your work, \n",
    "02. Output format should be exactly as requested, \n",
    "03. Each helper function should be preceeded by documentation (Markdown cell),\n",
    "05. No comments in the code; anything worth mentioning should be included in the documentation,\n",
    "06. Keep functions to 20 lines or less (including empty lines so do not add any),\n",
    "08. Use descriptive variable names,\n",
    "09. Functions should do only one thing,\n",
    "10. Check submission deadline on Gradescope, \n",
    "11. Rename the file to Last_First_assignment_2, \n",
    "12. Submit your notebook (as .ipynb, not PDF) using Gradescope, and\n",
    "13. Do not submit any other files.\n",
    "\n",
    "\n",
    "## Directions _not_ applicable for this Assignment:\n",
    "* Do not use classes,\n",
    "* Each helper function should be followed by three assert-style unit tests.\n",
    "\n",
    "\n",
    "## Before You Submit...\n",
    "\n",
    "1. Re-read the general instructions provided above, and\n",
    "2. Hit \"Kernel\"->\"Restart & Run All\"."
   ]
  },
  {
   "cell_type": "markdown",
   "metadata": {},
   "source": [
    "## The World\n",
    "\n",
    "A `List of Lists` is used to represent the world. Cells marked as '⬛' are obstacles in the world and are not traversable."
   ]
  },
  {
   "cell_type": "code",
   "execution_count": 1,
   "metadata": {},
   "outputs": [],
   "source": [
    "world = [\n",
    "['⬜','⬜','⬜','⬜','⬜','⬜','⬜','⬜','⬜','⬜','⬜','⬜','⬜','⬜','⬜','⬜','⬜','⬜','⬜','⬜','⬜'],\n",
    "['⬜','⬜','⬜','⬜','⬜','⬜','⬜','⬜','⬜','⬜','⬜','⬜','⬜','⬜','⬜','⬜','⬜','⬜','⬜','⬜','⬜'],\n",
    "['⬜','⬜','⬜','⬜','⬜','⬜','⬜','⬜','⬜','⬜','⬜','⬜','⬜','⬜','⬜','⬜','⬜','⬜','⬜','⬜','⬜'],\n",
    "['⬜','⬜','⬜','⬜','⬜','⬜','⬜','⬜','⬜','⬜','⬜','⬜','⬜','⬜','⬜','⬜','⬜','⬜','⬜','⬜','⬜'],\n",
    "['⬜','⬜','⬜','⬜','⬜','⬜','⬜','⬜','⬜','⬜','⬜','⬜','⬜','⬜','⬜','⬜','⬜','⬜','⬜','⬜','⬜'],\n",
    "['⬜','⬜','⬜','⬜','⬜','⬜','⬜','⬜','⬜','⬜','⬜','⬜','⬜','⬜','⬜','⬜','⬜','⬜','⬜','⬜','⬜'],\n",
    "['⬜','⬜','⬜','⬜','⬜','⬜','⬜','⬜','⬜','⬜','⬜','⬜','⬜','⬜','⬜','⬜','⬜','⬜','⬜','⬜','⬜'],\n",
    "['⬜','⬜','⬜','⬜','⬜','⬜','⬜','⬜','⬜','⬜','⬜','⬜','⬜','⬜','⬜','⬜','⬜','⬜','⬜','⬜','⬜'],\n",
    "['⬜','⬜','⬜','⬜','⬜','⬜','⬜','⬜','⬜','⬜','⬜','⬜','⬜','⬜','⬜','⬜','⬜','⬜','⬜','⬜','⬜'],\n",
    "['⬜','⬜','⬜','⬜','⬜','⬜','⬜','⬜','⬜','⬛','⬛','⬛','⬜','⬜','⬜','⬜','⬜','⬜','⬜','⬜','⬜'],\n",
    "['⬜','⬜','⬜','⬜','⬜','⬜','⬜','⬜','⬜','⬛','⬛','⬛','⬜','⬜','⬜','⬜','⬜','⬜','⬜','⬜','⬜'],\n",
    "['⬜','⬜','⬜','⬜','⬜','⬜','⬜','⬜','⬜','⬛','⬛','⬛','⬜','⬜','⬜','⬜','⬜','⬜','⬜','⬜','⬜'],\n",
    "['⬜','⬜','⬜','⬜','⬜','⬜','⬜','⬜','⬜','⬜','⬜','⬜','⬜','⬜','⬜','⬜','⬜','⬜','⬜','⬜','⬜'],\n",
    "['⬜','⬜','⬜','⬜','⬜','⬜','⬜','⬜','⬜','⬜','⬜','⬜','⬜','⬜','⬜','⬜','⬜','⬜','⬜','⬜','⬜'],\n",
    "['⬜','⬜','⬜','⬜','⬜','⬜','⬜','⬜','⬜','⬜','⬜','⬜','⬜','⬜','⬜','⬜','⬜','⬜','⬜','⬜','⬜'],\n",
    "['⬜','⬜','⬜','⬜','⬜','⬜','⬜','⬜','⬜','⬜','⬜','⬜','⬜','⬜','⬜','⬜','⬜','⬜','⬜','⬜','⬜'],\n",
    "['⬜','⬜','⬜','⬜','⬜','⬜','⬜','⬜','⬜','⬜','⬜','⬜','⬜','⬜','⬜','⬜','⬜','⬜','⬜','⬜','⬜'],\n",
    "['⬜','⬜','⬜','⬜','⬜','⬜','⬜','⬜','⬜','⬜','⬜','⬜','⬜','⬜','⬜','⬜','⬜','⬜','⬜','⬜','⬜'],\n",
    "['⬜','⬜','⬜','⬜','⬜','⬜','⬜','⬜','⬜','⬜','⬜','⬜','⬜','⬜','⬜','⬜','⬜','⬜','⬜','⬜','⬜'],\n",
    "['⬜','⬜','⬜','⬜','⬜','⬜','⬜','⬜','⬜','⬜','⬜','⬜','⬜','⬜','⬜','⬜','⬜','⬜','⬜','⬜','⬜'],\n",
    "['⬜','⬜','⬜','⬜','⬜','⬜','⬜','⬜','⬜','⬜','⬜','⬜','⬜','⬜','⬜','⬜','⬜','⬜','⬜','⬜','⬜']]"
   ]
  },
  {
   "cell_type": "code",
   "execution_count": 2,
   "metadata": {},
   "outputs": [
    {
     "name": "stdout",
     "output_type": "stream",
     "text": [
      "⬜⬜⬜⬜⬜⬜⬜⬜⬜⬜⬜⬜⬜⬜⬜⬜⬜⬜⬜⬜⬜\n",
      "⬜⬜⬜⬜⬜⬜⬜⬜⬜⬜⬜⬜⬜⬜⬜⬜⬜⬜⬜⬜⬜\n",
      "⬜⬜⬜⬜⬜⬜⬜⬜⬜⬜⬜⬜⬜⬜⬜⬜⬜⬜⬜⬜⬜\n",
      "⬜⬜⬜⬜⬜⬜⬜⬜⬜⬜⬜⬜⬜⬜⬜⬜⬜⬜⬜⬜⬜\n",
      "⬜⬜⬜⬜⬜⬜⬜⬜⬜⬜⬜⬜⬜⬜⬜⬜⬜⬜⬜⬜⬜\n",
      "⬜⬜⬜⬜⬜⬜⬜⬜⬜⬜⬜⬜⬜⬜⬜⬜⬜⬜⬜⬜⬜\n",
      "⬜⬜⬜⬜⬜⬜⬜⬜⬜⬜⬜⬜⬜⬜⬜⬜⬜⬜⬜⬜⬜\n",
      "⬜⬜⬜⬜⬜⬜⬜⬜⬜⬜⬜⬜⬜⬜⬜⬜⬜⬜⬜⬜⬜\n",
      "⬜⬜⬜⬜⬜⬜⬜⬜⬜⬜⬜⬜⬜⬜⬜⬜⬜⬜⬜⬜⬜\n",
      "⬜⬜⬜⬜⬜⬜⬜⬜⬜⬛⬛⬛⬜⬜⬜⬜⬜⬜⬜⬜⬜\n",
      "⬜⬜⬜⬜⬜⬜⬜⬜⬜⬛⬛⬛⬜⬜⬜⬜⬜⬜⬜⬜⬜\n",
      "⬜⬜⬜⬜⬜⬜⬜⬜⬜⬛⬛⬛⬜⬜⬜⬜⬜⬜⬜⬜⬜\n",
      "⬜⬜⬜⬜⬜⬜⬜⬜⬜⬜⬜⬜⬜⬜⬜⬜⬜⬜⬜⬜⬜\n",
      "⬜⬜⬜⬜⬜⬜⬜⬜⬜⬜⬜⬜⬜⬜⬜⬜⬜⬜⬜⬜⬜\n",
      "⬜⬜⬜⬜⬜⬜⬜⬜⬜⬜⬜⬜⬜⬜⬜⬜⬜⬜⬜⬜⬜\n",
      "⬜⬜⬜⬜⬜⬜⬜⬜⬜⬜⬜⬜⬜⬜⬜⬜⬜⬜⬜⬜⬜\n",
      "⬜⬜⬜⬜⬜⬜⬜⬜⬜⬜⬜⬜⬜⬜⬜⬜⬜⬜⬜⬜⬜\n",
      "⬜⬜⬜⬜⬜⬜⬜⬜⬜⬜⬜⬜⬜⬜⬜⬜⬜⬜⬜⬜⬜\n",
      "⬜⬜⬜⬜⬜⬜⬜⬜⬜⬜⬜⬜⬜⬜⬜⬜⬜⬜⬜⬜⬜\n",
      "⬜⬜⬜⬜⬜⬜⬜⬜⬜⬜⬜⬜⬜⬜⬜⬜⬜⬜⬜⬜⬜\n",
      "⬜⬜⬜⬜⬜⬜⬜⬜⬜⬜⬜⬜⬜⬜⬜⬜⬜⬜⬜⬜⬜\n"
     ]
    }
   ],
   "source": [
    "# A nicer view of the world, without commas and brackets\n",
    "for row in world:\n",
    "    print(\"\".join(row))"
   ]
  },
  {
   "cell_type": "markdown",
   "metadata": {},
   "source": [
    "## Robot\n",
    "\n",
    "Our robot '🤖' starts at the bottom left and can either move up, down, left, or right. It needs to get to the '❤️' in the world. Unlike the previous assignment, the robot now knows where the heart is."
   ]
  },
  {
   "cell_type": "code",
   "execution_count": 3,
   "metadata": {},
   "outputs": [],
   "source": [
    "MOVES = [(0,-1), (1,0), (0,1), (-1,0)]"
   ]
  },
  {
   "cell_type": "code",
   "execution_count": 4,
   "metadata": {},
   "outputs": [],
   "source": [
    "good_start = (len(world)-1, 0)"
   ]
  },
  {
   "cell_type": "code",
   "execution_count": 5,
   "metadata": {},
   "outputs": [],
   "source": [
    "goal = (0, len(world)-1)"
   ]
  },
  {
   "cell_type": "markdown",
   "metadata": {},
   "source": [
    "## Bad Robot\n",
    "\n",
    "And unlike the previous assignment, we have a bad robot '👾', too, that starts at the bottom right and can also move either up, down, left, or right. It wants to zap our robot. The zapper range isn't that great, so our robot is considered zapped if it is anywhere in a 3x3 cell centered at the bad robot."
   ]
  },
  {
   "cell_type": "code",
   "execution_count": 6,
   "metadata": {},
   "outputs": [],
   "source": [
    "bad_start = (len(world)-1, len(world)-1)"
   ]
  },
  {
   "cell_type": "code",
   "execution_count": 7,
   "metadata": {},
   "outputs": [],
   "source": [
    "# Update the world with this information\n",
    "world[good_start[0]][good_start[1]] = '🤖'\n",
    "world[goal[0]][goal[1]] = '❤️'\n",
    "world[bad_start[0]][bad_start[1]] = '👾'"
   ]
  },
  {
   "cell_type": "code",
   "execution_count": 8,
   "metadata": {},
   "outputs": [
    {
     "name": "stdout",
     "output_type": "stream",
     "text": [
      "⬜⬜⬜⬜⬜⬜⬜⬜⬜⬜⬜⬜⬜⬜⬜⬜⬜⬜⬜⬜❤️\n",
      "⬜⬜⬜⬜⬜⬜⬜⬜⬜⬜⬜⬜⬜⬜⬜⬜⬜⬜⬜⬜⬜\n",
      "⬜⬜⬜⬜⬜⬜⬜⬜⬜⬜⬜⬜⬜⬜⬜⬜⬜⬜⬜⬜⬜\n",
      "⬜⬜⬜⬜⬜⬜⬜⬜⬜⬜⬜⬜⬜⬜⬜⬜⬜⬜⬜⬜⬜\n",
      "⬜⬜⬜⬜⬜⬜⬜⬜⬜⬜⬜⬜⬜⬜⬜⬜⬜⬜⬜⬜⬜\n",
      "⬜⬜⬜⬜⬜⬜⬜⬜⬜⬜⬜⬜⬜⬜⬜⬜⬜⬜⬜⬜⬜\n",
      "⬜⬜⬜⬜⬜⬜⬜⬜⬜⬜⬜⬜⬜⬜⬜⬜⬜⬜⬜⬜⬜\n",
      "⬜⬜⬜⬜⬜⬜⬜⬜⬜⬜⬜⬜⬜⬜⬜⬜⬜⬜⬜⬜⬜\n",
      "⬜⬜⬜⬜⬜⬜⬜⬜⬜⬜⬜⬜⬜⬜⬜⬜⬜⬜⬜⬜⬜\n",
      "⬜⬜⬜⬜⬜⬜⬜⬜⬜⬛⬛⬛⬜⬜⬜⬜⬜⬜⬜⬜⬜\n",
      "⬜⬜⬜⬜⬜⬜⬜⬜⬜⬛⬛⬛⬜⬜⬜⬜⬜⬜⬜⬜⬜\n",
      "⬜⬜⬜⬜⬜⬜⬜⬜⬜⬛⬛⬛⬜⬜⬜⬜⬜⬜⬜⬜⬜\n",
      "⬜⬜⬜⬜⬜⬜⬜⬜⬜⬜⬜⬜⬜⬜⬜⬜⬜⬜⬜⬜⬜\n",
      "⬜⬜⬜⬜⬜⬜⬜⬜⬜⬜⬜⬜⬜⬜⬜⬜⬜⬜⬜⬜⬜\n",
      "⬜⬜⬜⬜⬜⬜⬜⬜⬜⬜⬜⬜⬜⬜⬜⬜⬜⬜⬜⬜⬜\n",
      "⬜⬜⬜⬜⬜⬜⬜⬜⬜⬜⬜⬜⬜⬜⬜⬜⬜⬜⬜⬜⬜\n",
      "⬜⬜⬜⬜⬜⬜⬜⬜⬜⬜⬜⬜⬜⬜⬜⬜⬜⬜⬜⬜⬜\n",
      "⬜⬜⬜⬜⬜⬜⬜⬜⬜⬜⬜⬜⬜⬜⬜⬜⬜⬜⬜⬜⬜\n",
      "⬜⬜⬜⬜⬜⬜⬜⬜⬜⬜⬜⬜⬜⬜⬜⬜⬜⬜⬜⬜⬜\n",
      "⬜⬜⬜⬜⬜⬜⬜⬜⬜⬜⬜⬜⬜⬜⬜⬜⬜⬜⬜⬜⬜\n",
      "🤖⬜⬜⬜⬜⬜⬜⬜⬜⬜⬜⬜⬜⬜⬜⬜⬜⬜⬜⬜👾\n"
     ]
    }
   ],
   "source": [
    "# A nicer view of the world, without commas and brackets\n",
    "for row in world:\n",
    "    print(\"\".join(row))"
   ]
  },
  {
   "cell_type": "markdown",
   "metadata": {},
   "source": [
    "## Game\n",
    "\n",
    "* We have two players: our original good robot and the new bad robot '👾'\n",
    "* At each turn of the game, a player gets to move in the world\n",
    "* Players only get to move according to `MOVES`\n",
    "* '⬛' are obstacles that neither robot can traverse\n",
    "* Each player knows the other player's current location\n",
    "* '🤖' wants to get to the '❤️' without being zapped\n",
    "* '👾' is trying to zap '🤖'\n",
    "* '🤖' wins if it gets to the '❤️'\n",
    "* '👾' wins if it zaps the good robot\n",
    "* The game is over when either player wins or we've reached 82 replies (41 good robot moves and 41 bad robot moves)"
   ]
  },
  {
   "cell_type": "markdown",
   "metadata": {},
   "source": [
    "## Adversarial Search\n",
    "\n",
    "\n",
    "The MINIMAX pseudocode is as follows:\n",
    "\n",
    "```\n",
    "MINIMAX(state) returns action\n",
    "    return argmax action in Actions MIN-VALUE(RESULT(state,action))\n",
    "    \n",
    "\n",
    "MAX-VALUE(state) returns value\n",
    "if TERMINAL(state) return UTILITY(state)\n",
    "v <- -inf\n",
    "for each action in Actions(state)\n",
    "    v <- MAX(v, MIN-VALUE(RESULT(state, action))\n",
    "return v\n",
    "\n",
    "\n",
    "MIN-VALUE(state) returns value\n",
    "if TERMINAL(state) return UTILITY(state)\n",
    "v <- +inf\n",
    "for each action in Actions(state)\n",
    "    v <- MIN(v, MAX-VALUE(RESULT(state, action))\n",
    "return v\n",
    "```\n",
    "\n",
    "MINIMAX is used to model the opponent as a rational player that will also try it's best to win. When moves are simulated in the tree, that's just what they are, simulations. The actual board only changes once MINIMAX returns an action. You will probably need to maintain a deep copy of the world. Instead of going all the way to terminal nodes, use a depth parameter."
   ]
  },
  {
   "cell_type": "markdown",
   "metadata": {},
   "source": [
    "## Problem #1\n",
    "\n",
    "\n",
    "Implement the game: players, actions, scores, keeping track of turns, when the game is over, how the world changes, and what strategy each player uses (random moves or MINIMAX). \n",
    "* '🤖' will use MINIMAX with a depth of 2 (simulate I move and then my opponent moves -- that's it) \n",
    "* '👾' will choose actions at random. \n",
    "* '🤖' utility function = Euclidean distance to '👾' - Euclidean distance to '❤️' (cares about getting to '❤️' and not being zapped by '👾') \n",
    "* '👾' utility function = - Euclidean distance to '🤖' (just cares about zapping '🤖')\n",
    "\n",
    "\n",
    "When the game is over, print out the world (nicer view) with the following changes:\n",
    "* Replace a '⬜' with '🟥' to indicate the path of '👾', \n",
    "* Replace '⬜' with '🟩' to indicate the path of '🤖', and\n",
    "* '🤖', '👾', '❤️', and '⬛' are not replaced."
   ]
  },
  {
   "cell_type": "code",
   "execution_count": 9,
   "metadata": {},
   "outputs": [],
   "source": [
    "# Your documentation, code, and tests start here."
   ]
  },
  {
   "cell_type": "code",
   "execution_count": 10,
   "metadata": {},
   "outputs": [],
   "source": [
    "import math\n",
    "import random\n"
   ]
  },
  {
   "cell_type": "markdown",
   "metadata": {},
   "source": [
    "### is_valid_move\n",
    "This function checks whether or not a move is valid. A move is considered valid if its within the vertical and horizontal bounds and also making sure it's not an obstacle(⬛).\n",
    "\n",
    "* **pos**: the current position\n",
    "* **world**: the search area\n",
    "\n",
    "**returns**\n",
    "bool -  true if the move is valid, false if its not"
   ]
  },
  {
   "cell_type": "code",
   "execution_count": 11,
   "metadata": {},
   "outputs": [],
   "source": [
    "def is_valid_move(pos, world):\n",
    "    x, y = pos\n",
    "    return 0 <= x < len(world) and 0 <= y < len(world[0]) and world[x][y] != '⬛'"
   ]
  },
  {
   "cell_type": "markdown",
   "metadata": {},
   "source": [
    "### print_current_world\n",
    "This function iterates over the world and prints one of the symbols('🤖', '👾', '❤️', '🟩', '🟥') based on what it is(good robot, bad robot, goal, good robot path, bad robot path )\n",
    "\n",
    "* **world**: the search area\n",
    "* **good_path**: the path of the good robot\n",
    "* **bad_path**: the path of the bad robot\n",
    "* **good_start**: the starting position of the good robot \n",
    "* **bad_start**: the starting position of the bad robot\n",
    "* **goal**: the goal node\n",
    "\n",
    "**returns** None - the function prints the current state of the world grid"
   ]
  },
  {
   "cell_type": "code",
   "execution_count": 12,
   "metadata": {},
   "outputs": [],
   "source": [
    "def print_current_world(world, good_path, bad_path, good_start, bad_start, goal):\n",
    "    for x in range(len(world)):\n",
    "        row = ''\n",
    "        for y in range(len(world[0])):\n",
    "            if (x, y) == good_start:\n",
    "                row += '🤖'  \n",
    "            elif (x, y) == bad_start:\n",
    "                row += '👾'  \n",
    "            elif (x, y) == goal:\n",
    "                row += '❤️'  \n",
    "            elif (x, y) in good_path:\n",
    "                row += '🟩'  \n",
    "            elif (x, y) in bad_path:\n",
    "                row += '🟥'  \n",
    "            else:\n",
    "                row += world[x][y] \n",
    "        print(row)\n",
    "    return None"
   ]
  },
  {
   "cell_type": "markdown",
   "metadata": {},
   "source": [
    "### valid_moves\n",
    "\n",
    "* **pos**: the current position(coordinates) in the world \n",
    "* **world**: the search area \n",
    "* **moves**: the list of possible moves\n",
    "\n",
    "**returns** -  A list of valid new positions after applying the possible moves"
   ]
  },
  {
   "cell_type": "code",
   "execution_count": 13,
   "metadata": {},
   "outputs": [],
   "source": [
    "def valid_moves(pos, world, moves):\n",
    "  valid = []\n",
    "  for move in moves:\n",
    "    pos_new = (pos[0] + move[0], pos[1] + move[1])\n",
    "    if is_valid_move(pos_new, world):\n",
    "      valid.append(pos_new)\n",
    "  return valid"
   ]
  },
  {
   "cell_type": "markdown",
   "metadata": {},
   "source": [
    "### euclidean_distance\n",
    "\n",
    "This function calculates the Euclidean distance between two points\n",
    "* **pos1**: coordinates of the first point\n",
    "* **pos2** coordinates of the second point \n",
    "\n",
    "**returns** float - representing the Euclidean distance between the two points"
   ]
  },
  {
   "cell_type": "code",
   "execution_count": 14,
   "metadata": {},
   "outputs": [],
   "source": [
    "def euclidean_distance(pos1, pos2):\n",
    "     return math.sqrt((pos1[0] - pos2[0]) ** 2 + (pos1[1] - pos2[1]) ** 2)"
   ]
  },
  {
   "cell_type": "markdown",
   "metadata": {},
   "source": [
    "### is_zapped\n",
    "This function checks if the good robot is within the zap range of the bad robot. Zap range is defined if the good robot is anywhere in a 3x3 cell centered at the bad robot.\n",
    "\n",
    "* **good_pos**: the position of the good robot \n",
    "* **bad_pos**: the position of the bad robot \n",
    "\n",
    "**returns**: bool - true if the good robot is in zap range "
   ]
  },
  {
   "cell_type": "code",
   "execution_count": 15,
   "metadata": {},
   "outputs": [],
   "source": [
    "def is_zapped(good_pos, bad_pos):\n",
    "    return abs(good_pos[0] - bad_pos[0]) <= 1 and abs(good_pos[1] - bad_pos[1]) <= 1"
   ]
  },
  {
   "cell_type": "markdown",
   "metadata": {},
   "source": [
    "### check_end_conditions\n",
    "This function checks if the game has reached an end state based on two conditions:\n",
    "If the good robot has reached the goal or if the good robot has been zapped by the bad robot.\n",
    "\n",
    "* **good_pos**: current position of the good robot \n",
    "* **bad_pos**: current position of the bad robot \n",
    "* **goal**: position of the goal \n",
    "\n",
    "**returns** bool - true if the game has reached an end state, false otherwise"
   ]
  },
  {
   "cell_type": "code",
   "execution_count": 16,
   "metadata": {},
   "outputs": [],
   "source": [
    "def check_end_conditions(good_pos, bad_pos, goal):\n",
    "    if good_pos == goal:\n",
    "        return True\n",
    "    if is_zapped(good_pos, bad_pos):\n",
    "        return True\n",
    "    return False"
   ]
  },
  {
   "cell_type": "markdown",
   "metadata": {},
   "source": [
    "### utility\n",
    "This function calculates the utility (score) of a given position for either the good or bad robot. If the robot is the good robot the utility is calculated as the difference between the Euclidean distance from the robot's position to the opponent's position and the distance from the robot's position to the goal. If the robot is the bad robot the utility is simply the negative of the distance from the bad robot's position to the good robot.\n",
    "\n",
    "* **pos**: The current position of the robot being evaluated.\n",
    "* **opponent_pos**: The position of the opponent robot.\n",
    "* **goal**: the position of the goal.\n",
    "* **is_good**: A flag that indicates whether the robot being evaluated is the good robot or bad robot \n",
    "\n",
    "**returns**: float - the utility value of the current position for the robot. "
   ]
  },
  {
   "cell_type": "code",
   "execution_count": 17,
   "metadata": {},
   "outputs": [],
   "source": [
    "def utility(pos, opponent_pos, goal, is_good):\n",
    "    if is_good:\n",
    "        return euclidean_distance(pos, opponent_pos) - euclidean_distance(pos, goal)\n",
    "    else:\n",
    "        return -euclidean_distance(pos, opponent_pos)"
   ]
  },
  {
   "cell_type": "markdown",
   "metadata": {},
   "source": [
    "### random_move\n",
    "This function selects a random valid move for a robot from its current position within the game world. It first determines all valid moves from the current position. If there are valid moves available, it randomly selects one of them. If no valid moves are available, the function returns None.\n",
    "\n",
    "* **pos**: The current position of the robot \n",
    "* **world**: the search area \n",
    "* **moves**: A list of possible moves\n",
    "\n",
    "**returns** - a randomly selected valid move if any valid moves are available, or None if no valid moves exist."
   ]
  },
  {
   "cell_type": "code",
   "execution_count": 18,
   "metadata": {},
   "outputs": [],
   "source": [
    "def random_move(pos, world, moves):\n",
    "    valid = valid_moves(pos, world, moves)\n",
    "    return random.choice(valid) if valid else None"
   ]
  },
  {
   "cell_type": "markdown",
   "metadata": {},
   "source": [
    "### minimax_value\n",
    "This function implements the min and max value for the minimax algorithm. It evaluates the best possible value for a robot at a given position. The function recursively explores the possible moves for both the current robot and the opponent, alternating between maximizing the player's advantage and minimizing the opponent's advantage. It returns the best possible utility value after evaluating all moves up to a given depth or when an end condition is met\n",
    "\n",
    "* **pos**: the current position of the robot being evaluated\n",
    "* **opponent_pos**: the position of the opponent robot.\n",
    "* **goal**: the position of the goal \n",
    "* **world**: the search area \n",
    "* **moves**: list of possible moves \n",
    "* **depth**: The remaining depth to explore in the Minimax search. When depth reaches 0, the function evaluates the utility of the current position\n",
    "* **maximizing_player**: A flag indicating whether the current player is trying to maximize their utility(True for the good robot) or minimize the opponent's utility (False for the opponent)\n",
    "* **is_good**: A flag indicating whether the robot being evaluated is the good robot or the bad robot\n",
    "\n",
    "**returns**: float - the best possible utility value for the robot at the current position\n"
   ]
  },
  {
   "cell_type": "code",
   "execution_count": 19,
   "metadata": {},
   "outputs": [],
   "source": [
    "def minimax_value(pos, opponent_pos, goal, world, moves, depth, maximizing_player, is_good):\n",
    "    if depth == 0 or check_end_conditions(pos, opponent_pos, goal):\n",
    "        return utility(pos, opponent_pos, goal, is_good)\n",
    "    if maximizing_player:\n",
    "        best_value = float('-inf')\n",
    "        for action in valid_moves(pos, world, moves):\n",
    "            value = minimax_value(action, opponent_pos, goal, world, moves, depth - 1, False, is_good)\n",
    "            best_value = max(best_value, value)\n",
    "        return best_value\n",
    "    else:\n",
    "        best_value = float('inf')\n",
    "        for action in valid_moves(opponent_pos, world, moves):\n",
    "            value = minimax_value(pos, action, goal, world, moves, depth - 1, True, is_good)\n",
    "            best_value = min(best_value, value)\n",
    "        return best_value"
   ]
  },
  {
   "cell_type": "markdown",
   "metadata": {},
   "source": [
    "### minimax\n",
    "This function determines the best move for a robot (either good or bad) using the Minimax algorithm. It evaluates all valid moves from the current position and selects the move that provides the highest utility score based on future possibilities, considering the opponent's possible responses.\n",
    "\n",
    "* **pos**: The current position of the robot that is making the move.\n",
    "* **opponent_pos**: The position of the opponent robot.\n",
    "* **goal**: the position of the goal \n",
    "* **world**: the search area \n",
    "* **moves**: the list of possible moves \n",
    "* **depth**: the depth limit for the Minimax algorithm, indicating how many future moves the algorithm should consider\n",
    "* **is_good**: A flag indicating whether the robot is the good robot or the bad robot \n",
    "\n",
    "**returns**: tuple or None - The best action  representing the move that provides the highest utility for the robot. If no valid moves are available, it returns None."
   ]
  },
  {
   "cell_type": "code",
   "execution_count": 20,
   "metadata": {},
   "outputs": [],
   "source": [
    "def minimax(pos, opponent_pos, goal, world, moves, depth, is_good):\n",
    "    best_score = float('-inf')\n",
    "    best_action = None\n",
    "    for action in valid_moves(pos, world, moves):\n",
    "        score = minimax_value(action, opponent_pos, goal, world, moves, depth - 1, False, is_good)\n",
    "        if score > best_score:\n",
    "            best_score = score\n",
    "            best_action = action\n",
    "    return best_action"
   ]
  },
  {
   "cell_type": "markdown",
   "metadata": {},
   "source": [
    "### player_move\n",
    "This function determines the next move for a player (either good or bad) based on the chosen strategy. The player can either use the 'MINIMAX' strategy, which evaluates moves using the Minimax algorithm, or the 'random' strategy, which picks a valid move at random.\n",
    "\n",
    "* **pos**: current position of the robot either good or bad making the move\n",
    "* **opponent_pos**: the position of the oponent robot \n",
    "* **goal**: the position of the goal \n",
    "* **world**: the search area \n",
    "* **moves**: the list of possible moves \n",
    "* **strategy**: The decision-making strategy for the player. It can either be 'minimax' or 'random'\n",
    "* **depth**: the depth limit for the Minimax algorithm, specifying how many levels ahead the algorithm should search.\n",
    "* **is_good**: A flag indicating whether the player is the good robot or bad robot \n",
    "\n",
    "**returns**: tuple - the next position for the player based on the chosen strategy. "
   ]
  },
  {
   "cell_type": "code",
   "execution_count": 21,
   "metadata": {},
   "outputs": [],
   "source": [
    "def player_move(pos, opponent_pos, goal, world, moves, strategy, depth, is_good):\n",
    "    if strategy == 'MINIMAX':\n",
    "        return minimax(pos, opponent_pos, goal, world, moves, depth, is_good)\n",
    "    else:\n",
    "        return random_move(pos, world, moves)"
   ]
  },
  {
   "cell_type": "markdown",
   "metadata": {},
   "source": [
    "### take_turn\n",
    "This function handles a single turn for a robot in the game. It determines the next move using a selected strategy, updates the player's path, and checks if the game should end based on the player's new position.\n",
    "\n",
    "* **pos**: current position of the robot either good or bad making the move\n",
    "* **opponent_pos**: the position of the oponent robot \n",
    "* **goal**: the position of the goal \n",
    "* **world**: the search area \n",
    "* **moves**: the list of possible moves \n",
    "* **strategy**: The decision-making strategy for the player. It can either be 'minimax' or 'random'\n",
    "* **depth**: the depth limit for the Minimax algorithm, specifying how many levels ahead the algorithm should search.\n",
    "* **is_good**: A flag indicating whether the player is the good robot or bad robot \n",
    "* **path**: A list of positions representing the path the robot has taken so far.\n",
    "\n",
    "**returns**: tuple or None - returns the new position of the robot after the turn. If the player reaches the goal or is zapped, or if no valid move is found, the function returns None to indicate the game has ended for that player."
   ]
  },
  {
   "cell_type": "code",
   "execution_count": 22,
   "metadata": {},
   "outputs": [],
   "source": [
    "def take_turn(pos, opponent_pos, goal, world, moves, strategy, depth, is_good, path):\n",
    "    move = player_move(pos, opponent_pos, goal, world, moves, strategy, depth, is_good)\n",
    "    if not move:\n",
    "        return None\n",
    "    path.append(move)\n",
    "    if check_end_conditions(move, opponent_pos, goal):\n",
    "        return None\n",
    "    return move"
   ]
  },
  {
   "cell_type": "markdown",
   "metadata": {},
   "source": [
    "<a id=\"breadth_first_search\"></a>\n",
    "## run_robot_game\n",
    "\n",
    "Description of your function.\n",
    "\n",
    "* **world** List[List[str]]: the search area\n",
    "* **good_start** Tuple[int, int]: the starting location of the good robot\n",
    "* **bad_start** Tuple[int, int]: the starting location of the bad robot\n",
    "* **goal** Tuple[int, int]: the goal location in the world\n",
    "* **moves** List[Tuple[int, int]]: the allowable moves in the world\n",
    "* **good_strategy** str: name of strategy to use for good robot: either random_strategy or MINIMAX with option to set depth\n",
    "* **good_depth**: the depth the good robot will use \n",
    "* **bad_strategy** str: name of strategy to use for bad robot: either random_strategy or MINIMAX with option to set depth\n",
    "* **bad_depth**: the depth the bad robot will use\n",
    "\n",
    "\n",
    "\n",
    "**returns** None (but prints out a nice view of the world and replaces appropriate cells)."
   ]
  },
  {
   "cell_type": "code",
   "execution_count": 23,
   "metadata": {},
   "outputs": [],
   "source": [
    "def run_robot_game(world, good_start, bad_start, goal, moves, good_strategy, good_depth, bad_strategy, bad_depth):\n",
    "    good_pos, bad_pos, good_path, bad_path  = good_start, bad_start, [], []\n",
    "    turn, max_turns = 0, 82\n",
    "    while turn < max_turns:\n",
    "        good_pos = take_turn(good_pos, bad_pos, goal, world, moves, good_strategy, good_depth, True, good_path)\n",
    "        if good_pos is None: break\n",
    "        turn += 1\n",
    "        if turn >= max_turns: break\n",
    "        bad_pos = take_turn(bad_pos, good_pos, goal, world, moves,bad_strategy, bad_depth, False, bad_path)\n",
    "        if bad_pos is None:break\n",
    "        turn += 1\n",
    "        if turn >= max_turns:break\n",
    "    print_current_world(world, good_path, bad_path, good_start, bad_start, goal)\n",
    "    return None"
   ]
  },
  {
   "cell_type": "code",
   "execution_count": 24,
   "metadata": {},
   "outputs": [
    {
     "name": "stdout",
     "output_type": "stream",
     "text": [
      "🟩🟩🟩🟩🟩🟩🟩🟩🟩🟩🟩🟩🟩🟩🟩🟩🟩🟩🟩🟩❤️\n",
      "🟩⬜⬜⬜⬜⬜⬜⬜⬜⬜⬜⬜⬜⬜⬜⬜⬜⬜⬜⬜⬜\n",
      "🟩⬜⬜⬜⬜⬜⬜⬜⬜⬜⬜⬜⬜⬜⬜⬜⬜⬜⬜⬜⬜\n",
      "🟩⬜⬜⬜⬜⬜⬜⬜⬜⬜⬜⬜⬜⬜⬜⬜⬜⬜⬜⬜⬜\n",
      "🟩⬜⬜⬜⬜⬜⬜⬜⬜⬜⬜⬜⬜⬜⬜⬜⬜⬜⬜⬜⬜\n",
      "🟩⬜⬜⬜⬜⬜⬜⬜⬜⬜⬜⬜⬜⬜⬜⬜⬜⬜⬜⬜⬜\n",
      "🟩⬜⬜⬜⬜⬜⬜⬜⬜⬜⬜⬜⬜⬜⬜⬜⬜⬜⬜⬜⬜\n",
      "🟩⬜⬜⬜⬜⬜⬜⬜⬜⬜⬜⬜⬜⬜⬜⬜⬜⬜⬜⬜⬜\n",
      "🟩⬜⬜⬜⬜⬜⬜⬜⬜⬜⬜⬜⬜⬜⬜⬜⬜⬜⬜⬜⬜\n",
      "🟩⬜⬜⬜⬜⬜⬜⬜⬜⬛⬛⬛⬜⬜⬜⬜⬜⬜⬜⬜⬜\n",
      "🟩⬜⬜⬜⬜⬜⬜⬜⬜⬛⬛⬛⬜⬜⬜⬜⬜⬜⬜⬜⬜\n",
      "🟩⬜⬜⬜⬜⬜⬜⬜⬜⬛⬛⬛⬜⬜⬜⬜⬜⬜⬜⬜⬜\n",
      "🟩⬜⬜⬜⬜⬜⬜⬜⬜⬜⬜⬜⬜⬜⬜⬜⬜⬜⬜⬜⬜\n",
      "🟩⬜⬜⬜⬜⬜⬜⬜⬜⬜⬜⬜⬜⬜⬜⬜⬜⬜⬜⬜⬜\n",
      "🟩⬜⬜⬜⬜⬜⬜⬜⬜⬜⬜⬜⬜⬜⬜⬜⬜⬜⬜⬜⬜\n",
      "🟩⬜⬜⬜⬜⬜⬜⬜⬜⬜⬜⬜⬜⬜⬜⬜⬜⬜⬜⬜⬜\n",
      "🟩⬜⬜⬜⬜⬜⬜⬜⬜⬜⬜⬜⬜⬜⬜⬜⬜⬜⬜⬜⬜\n",
      "🟩⬜⬜⬜⬜⬜⬜⬜⬜⬜⬜⬜⬜⬜⬜⬜⬜⬜⬜⬜⬜\n",
      "🟩⬜⬜⬜⬜⬜⬜⬜⬜⬜⬜⬜⬜⬜⬜⬜🟥⬜⬜⬜⬜\n",
      "🟩⬜⬜⬜⬜⬜⬜⬜⬜⬜⬜⬜⬜⬜⬜⬜🟥🟥🟥🟥🟥\n",
      "🤖⬜⬜⬜⬜⬜⬜⬜⬜⬜⬜⬜⬜⬜⬜⬜⬜🟥🟥🟥👾\n"
     ]
    }
   ],
   "source": [
    "result_1 = run_robot_game(world, good_start, bad_start, goal, MOVES, 'MINIMAX', 2, 'random', 0)"
   ]
  },
  {
   "cell_type": "markdown",
   "metadata": {},
   "source": [
    "## Problem #2\n",
    "\n",
    "\n",
    "Play the game again, but in this problem, '🤖' and '👾' both use MINIMAX with a depth of 2."
   ]
  },
  {
   "cell_type": "code",
   "execution_count": 25,
   "metadata": {},
   "outputs": [
    {
     "name": "stdout",
     "output_type": "stream",
     "text": [
      "🟩🟩🟩🟩🟩🟩🟩🟩🟩🟩🟩🟩🟩🟩🟩🟩🟩🟩🟩🟩❤️\n",
      "🟩⬜⬜⬜⬜⬜⬜⬜⬜⬜⬜⬜⬜⬜⬜⬜⬜⬜⬜⬜⬜\n",
      "🟩⬜⬜⬜⬜⬜⬜⬜⬜⬜⬜⬜⬜⬜⬜⬜⬜⬜⬜⬜⬜\n",
      "🟩⬜⬜⬜⬜⬜⬜⬜🟥🟥🟥🟥🟥🟥🟥🟥🟥🟥🟥⬜⬜\n",
      "🟩⬜⬜⬜⬜⬜⬜⬜🟥⬜⬜⬜⬜⬜⬜⬜⬜⬜⬜⬜⬜\n",
      "🟩⬜⬜⬜⬜⬜⬜⬜🟥⬜⬜⬜⬜⬜⬜⬜⬜⬜⬜⬜⬜\n",
      "🟩⬜⬜⬜⬜⬜⬜⬜🟥⬜⬜⬜⬜⬜⬜⬜⬜⬜⬜⬜⬜\n",
      "🟩⬜⬜⬜⬜⬜⬜⬜🟥⬜⬜⬜⬜⬜⬜⬜⬜⬜⬜⬜⬜\n",
      "🟩⬜⬜⬜⬜⬜⬜⬜🟥⬜⬜⬜⬜⬜⬜⬜⬜⬜⬜⬜⬜\n",
      "🟩⬜⬜⬜⬜⬜⬜⬜🟥⬛⬛⬛⬜⬜⬜⬜⬜⬜⬜⬜⬜\n",
      "🟩⬜⬜⬜⬜⬜⬜⬜🟥⬛⬛⬛⬜⬜⬜⬜⬜⬜⬜⬜⬜\n",
      "🟩⬜⬜⬜⬜⬜⬜⬜🟥⬛⬛⬛⬜⬜⬜⬜⬜⬜⬜⬜⬜\n",
      "🟩⬜⬜⬜⬜⬜⬜⬜🟥🟥🟥⬜⬜⬜⬜⬜⬜⬜⬜⬜⬜\n",
      "🟩⬜⬜⬜⬜⬜⬜⬜⬜⬜🟥⬜⬜⬜⬜⬜⬜⬜⬜⬜⬜\n",
      "🟩⬜⬜⬜⬜⬜⬜⬜⬜⬜🟥⬜⬜⬜⬜⬜⬜⬜⬜⬜⬜\n",
      "🟩⬜⬜⬜⬜⬜⬜⬜⬜⬜🟥⬜⬜⬜⬜⬜⬜⬜⬜⬜⬜\n",
      "🟩⬜⬜⬜⬜⬜⬜⬜⬜⬜🟥⬜⬜⬜⬜⬜⬜⬜⬜⬜⬜\n",
      "🟩⬜⬜⬜⬜⬜⬜⬜⬜⬜🟥⬜⬜⬜⬜⬜⬜⬜⬜⬜⬜\n",
      "🟩⬜⬜⬜⬜⬜⬜⬜⬜⬜🟥⬜⬜⬜⬜⬜⬜⬜⬜⬜⬜\n",
      "🟩⬜⬜⬜⬜⬜⬜⬜⬜⬜🟥⬜⬜⬜⬜⬜⬜⬜⬜⬜⬜\n",
      "🤖⬜⬜⬜⬜⬜⬜⬜⬜⬜🟥🟥🟥🟥🟥🟥🟥🟥🟥🟥👾\n"
     ]
    }
   ],
   "source": [
    "result_2 = run_robot_game(world, good_start, bad_start, goal, MOVES, 'MINIMAX', 2, 'MINIMAX', 2)"
   ]
  },
  {
   "cell_type": "markdown",
   "metadata": {},
   "source": [
    "## Problem #3\n",
    "\n",
    "\n",
    "Play the game again, but in this problem '🤖' uses a depth of 2; '👾' uses a depth of 8."
   ]
  },
  {
   "cell_type": "code",
   "execution_count": 26,
   "metadata": {},
   "outputs": [
    {
     "name": "stdout",
     "output_type": "stream",
     "text": [
      "🟩🟩🟩🟩🟩🟩🟩🟩🟩🟩🟩🟩🟩🟩🟩🟩🟩🟩🟩🟩❤️\n",
      "🟩⬜⬜⬜⬜⬜⬜⬜⬜⬜⬜⬜⬜⬜⬜⬜⬜⬜⬜⬜⬜\n",
      "🟩⬜⬜⬜⬜⬜⬜⬜⬜⬜⬜⬜⬜⬜⬜⬜⬜⬜⬜⬜⬜\n",
      "🟩⬜⬜⬜⬜⬜⬜⬜⬜⬜⬜⬜⬜⬜⬜⬜⬜⬜⬜⬜⬜\n",
      "🟩⬜⬜⬜⬜⬜⬜⬜⬜⬜⬜⬜⬜⬜⬜⬜⬜⬜⬜⬜⬜\n",
      "🟩⬜⬜⬜⬜⬜⬜⬜⬜⬜⬜⬜⬜⬜⬜⬜⬜⬜⬜⬜⬜\n",
      "🟩⬜⬜⬜⬜⬜⬜⬜⬜⬜⬜⬜⬜⬜⬜⬜⬜🟥⬜⬜⬜\n",
      "🟩⬜⬜⬜⬜⬜⬜⬜⬜⬜⬜⬜⬜⬜⬜⬜🟥🟥⬜⬜⬜\n",
      "🟩⬜⬜⬜⬜⬜🟥🟥🟥🟥🟥🟥🟥🟥🟥🟥🟥⬜⬜⬜⬜\n",
      "🟩⬜⬜⬜⬜⬜🟥⬜⬜⬛⬛⬛⬜⬜⬜⬜⬜⬜⬜⬜⬜\n",
      "🟩⬜⬜⬜⬜⬜🟥🟥⬜⬛⬛⬛⬜⬜⬜⬜⬜⬜⬜⬜⬜\n",
      "🟩⬜⬜⬜⬜⬜⬜🟥🟥⬛⬛⬛⬜⬜⬜⬜⬜⬜⬜⬜⬜\n",
      "🟩⬜⬜⬜⬜⬜⬜⬜🟥⬜⬜⬜⬜⬜⬜⬜⬜⬜⬜⬜⬜\n",
      "🟩⬜⬜⬜⬜⬜⬜⬜🟥⬜⬜⬜⬜⬜⬜⬜⬜⬜⬜⬜⬜\n",
      "🟩⬜⬜⬜⬜⬜⬜⬜🟥⬜⬜⬜⬜⬜⬜⬜⬜⬜⬜⬜⬜\n",
      "🟩⬜⬜⬜⬜⬜⬜⬜🟥🟥🟥⬜⬜⬜⬜⬜⬜⬜⬜⬜⬜\n",
      "🟩⬜⬜⬜⬜⬜⬜⬜⬜⬜🟥⬜⬜⬜⬜⬜⬜⬜⬜⬜⬜\n",
      "🟩⬜⬜⬜⬜⬜⬜⬜⬜⬜🟥⬜⬜⬜⬜⬜⬜⬜⬜⬜⬜\n",
      "🟩⬜⬜⬜⬜⬜⬜⬜⬜⬜🟥⬜⬜⬜⬜⬜⬜⬜⬜⬜⬜\n",
      "🟩⬜⬜⬜⬜⬜⬜⬜⬜⬜🟥⬜⬜⬜⬜⬜⬜⬜⬜⬜⬜\n",
      "🤖⬜⬜⬜⬜⬜⬜⬜⬜⬜🟥🟥🟥🟥🟥🟥🟥🟥🟥🟥👾\n"
     ]
    }
   ],
   "source": [
    "result_3 = run_robot_game(world, good_start, bad_start, goal, MOVES, 'MINIMAX', 2, 'MINIMAX', 8)"
   ]
  },
  {
   "cell_type": "markdown",
   "metadata": {},
   "source": [
    "## Problem #4\n",
    "\n",
    "\n",
    "Play the game again, but in this problem, '🤖' and '👾' both use a depth of 4 and utility function of '👾' = - Euclidean distance to '❤️' - Euclidean distance to '🤖' (it now knows the '❤️' means something to '🤖')."
   ]
  },
  {
   "cell_type": "markdown",
   "metadata": {},
   "source": [
    "### utility\n",
    "This is a redefinition of the utility function. Still calculates the the utility (score) of a given position for either the good robot or the bad robot. The utility for the good robot remains the same as it was before. The utility for the bad robot is now calculated as the negative sum of the distances to both the opponent and the goal.\n",
    "\n",
    "* **pos**: the current position of the robot being evaluated.\n",
    "* **opponent_pos**: the position of the opponent robot.\n",
    "* **goal**: the position of the goal\n",
    "* **is_good**: a flag indicating whether the robot being evaluated is the good robot or the bad robot \n",
    "\n",
    "**returns** float - the utility value of the current position for the robot."
   ]
  },
  {
   "cell_type": "code",
   "execution_count": 27,
   "metadata": {},
   "outputs": [],
   "source": [
    "def utility(pos, opponent_pos, goal, is_good):\n",
    "    if is_good:\n",
    "        return euclidean_distance(pos, opponent_pos) - euclidean_distance(pos, goal)\n",
    "    else:\n",
    "        return - euclidean_distance(pos, opponent_pos) - euclidean_distance(pos, goal)"
   ]
  },
  {
   "cell_type": "code",
   "execution_count": 28,
   "metadata": {},
   "outputs": [
    {
     "name": "stdout",
     "output_type": "stream",
     "text": [
      "🟩⬜⬜⬜⬜⬜⬜⬜⬜⬜⬜⬜⬜⬜⬜⬜⬜⬜⬜⬜❤️\n",
      "🟩⬜⬜⬜⬜⬜⬜⬜⬜⬜⬜⬜⬜⬜⬜⬜⬜⬜⬜⬜🟥\n",
      "🟩⬜⬜⬜⬜⬜⬜⬜⬜⬜⬜⬜⬜⬜⬜⬜⬜⬜⬜⬜🟥\n",
      "🟩⬜⬜⬜⬜⬜⬜⬜⬜⬜⬜⬜⬜⬜⬜⬜⬜⬜⬜⬜🟥\n",
      "🟩⬜⬜⬜⬜⬜⬜⬜⬜⬜⬜⬜⬜⬜⬜⬜⬜⬜⬜⬜🟥\n",
      "🟩⬜⬜⬜⬜⬜⬜⬜⬜⬜⬜⬜⬜⬜⬜⬜⬜⬜⬜⬜🟥\n",
      "🟩⬜⬜⬜⬜⬜⬜⬜⬜⬜⬜⬜⬜⬜⬜⬜⬜⬜⬜⬜🟥\n",
      "🟩⬜⬜⬜⬜⬜⬜⬜⬜⬜⬜⬜⬜⬜⬜⬜⬜⬜⬜⬜🟥\n",
      "🟩⬜⬜⬜⬜⬜⬜⬜⬜⬜⬜⬜⬜⬜⬜⬜⬜⬜⬜⬜🟥\n",
      "🟩⬜⬜⬜⬜⬜⬜⬜⬜⬛⬛⬛⬜⬜⬜⬜⬜⬜⬜⬜🟥\n",
      "🟩⬜⬜⬜⬜⬜⬜⬜⬜⬛⬛⬛⬜⬜⬜⬜⬜⬜⬜⬜🟥\n",
      "🟩⬜⬜⬜⬜⬜⬜⬜⬜⬛⬛⬛⬜⬜⬜⬜⬜⬜⬜⬜🟥\n",
      "🟩⬜⬜⬜⬜⬜⬜⬜⬜⬜⬜⬜⬜⬜⬜⬜⬜⬜⬜⬜🟥\n",
      "🟩⬜⬜⬜⬜⬜⬜⬜⬜⬜⬜⬜⬜⬜⬜⬜⬜⬜⬜⬜🟥\n",
      "🟩⬜⬜⬜⬜⬜⬜⬜⬜⬜⬜⬜⬜⬜⬜⬜⬜⬜⬜⬜🟥\n",
      "🟩⬜⬜⬜⬜⬜⬜⬜⬜⬜⬜⬜⬜⬜⬜⬜⬜⬜⬜⬜🟥\n",
      "🟩⬜⬜⬜⬜⬜⬜⬜⬜⬜⬜⬜⬜⬜⬜⬜⬜⬜⬜⬜🟥\n",
      "🟩⬜⬜⬜⬜⬜⬜⬜⬜⬜⬜⬜⬜⬜⬜⬜⬜⬜⬜⬜🟥\n",
      "🟩⬜⬜⬜⬜⬜⬜⬜⬜⬜⬜⬜⬜⬜⬜⬜⬜⬜⬜⬜🟥\n",
      "🟩⬜⬜⬜⬜⬜⬜⬜⬜⬜⬜⬜⬜⬜⬜⬜⬜⬜⬜⬜🟥\n",
      "🤖⬜⬜⬜⬜⬜⬜⬜⬜⬜⬜⬜⬜⬜⬜⬜⬜⬜⬜⬜👾\n"
     ]
    }
   ],
   "source": [
    "result_4 = run_robot_game(world, good_start, bad_start, goal, MOVES, 'MINIMAX', 2, 'MINIMAX', 2)"
   ]
  },
  {
   "cell_type": "markdown",
   "metadata": {},
   "source": [
    "| Question | Comment | \n",
    "|------|------|\n",
    "|Did knowledge of '🤖' trying to get to '❤️' help '👾'? | Yes since '🤖' is trying to reach  '❤️', '👾' can predict '🤖' movement towards the top-right corner and position itself to either block or zap '🤖' by moving closer to the '❤️' so this game ends because nodes are revisited again. The '👾' will stay in the top right blocking the goal in order to ensure that the '🤖' will not reach it. "
   ]
  },
  {
   "cell_type": "markdown",
   "metadata": {},
   "source": [
    "## Before You Submit...\n",
    "\n",
    "1. Re-read the general instructions provided above, and\n",
    "2. Hit \"Kernel\"->\"Restart & Run All\"."
   ]
  }
 ],
 "metadata": {
  "kernelspec": {
   "display_name": "base",
   "language": "python",
   "name": "python3"
  },
  "language_info": {
   "codemirror_mode": {
    "name": "ipython",
    "version": 3
   },
   "file_extension": ".py",
   "mimetype": "text/x-python",
   "name": "python",
   "nbconvert_exporter": "python",
   "pygments_lexer": "ipython3",
   "version": "3.11.5"
  },
  "toc": {
   "colors": {
    "hover_highlight": "#DAA520",
    "navigate_num": "#000000",
    "navigate_text": "#333333",
    "running_highlight": "#FF0000",
    "selected_highlight": "#FFD700",
    "sidebar_border": "#EEEEEE",
    "wrapper_background": "#FFFFFF"
   },
   "moveMenuLeft": true,
   "nav_menu": {
    "height": "192px",
    "width": "252px"
   },
   "navigate_menu": true,
   "number_sections": true,
   "sideBar": true,
   "threshold": 4,
   "toc_cell": false,
   "toc_section_display": "block",
   "toc_window_display": false,
   "widenNotebook": false
  }
 },
 "nbformat": 4,
 "nbformat_minor": 4
}
